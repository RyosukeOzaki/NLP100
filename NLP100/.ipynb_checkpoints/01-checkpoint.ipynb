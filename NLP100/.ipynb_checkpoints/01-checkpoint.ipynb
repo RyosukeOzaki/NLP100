{
 "cells": [
  {
   "cell_type": "markdown",
   "metadata": {},
   "source": [
    "# 第1章: 準備運動"
   ]
  },
  {
   "cell_type": "markdown",
   "metadata": {},
   "source": [
    "## slices: スライス\n",
    "list[begin : end]"
   ]
  },
  {
   "cell_type": "code",
   "execution_count": 1,
   "metadata": {
    "collapsed": false
   },
   "outputs": [
    {
     "name": "stdout",
     "output_type": "stream",
     "text": [
      "original [0, 1, 2, 3, 4, 5, 6, 7, 8, 9]\n",
      "l[2:5] [2, 3, 4]\n",
      "l[3:] [3, 4, 5, 6, 7, 8, 9]\n",
      "l[:7] [0, 1, 2, 3, 4, 5, 6]\n"
     ]
    }
   ],
   "source": [
    "# 00-01\n",
    "l = list(range(10))\n",
    "print('original', l[:])    # l[:]はlのcopyを返す\n",
    "print('l[2:5]', l[2:5])\n",
    "print('l[3:]', l[3:])\n",
    "print('l[:7]', l[:7])"
   ]
  },
  {
   "cell_type": "markdown",
   "metadata": {},
   "source": [
    "## stride: ストライド\n",
    "list[begin : end : stride]\n",
    "\n",
    "ストライドの数だけ\"見ている場所\"がずれていく"
   ]
  },
  {
   "cell_type": "code",
   "execution_count": 2,
   "metadata": {
    "collapsed": false
   },
   "outputs": [
    {
     "name": "stdout",
     "output_type": "stream",
     "text": [
      "l[::] [0, 1, 2, 3, 4, 5, 6, 7, 8, 9]\n",
      "l[::2] [0, 2, 4, 6, 8]\n",
      "l[1::3] [1, 4, 7]\n",
      "l[::-1] [9, 8, 7, 6, 5, 4, 3, 2, 1, 0]\n",
      "l[::-3] [9, 6, 3, 0]\n"
     ]
    }
   ],
   "source": [
    "# stride: ストライド\n",
    "print('l[::]', l[::])\n",
    "print('l[::2]', l[::2])\n",
    "print('l[1::3]', l[1::3])\n",
    "\n",
    "# ストライドが負のとき\n",
    "print('l[::-1]', l[::-1])\n",
    "print('l[::-3]', l[::-3])"
   ]
  },
  {
   "cell_type": "code",
   "execution_count": 4,
   "metadata": {
    "collapsed": false
   },
   "outputs": [
    {
     "name": "stdout",
     "output_type": "stream",
     "text": [
      "desserts\n",
      "パトカー\n"
     ]
    }
   ],
   "source": [
    "s = \"stressed\"\n",
    "print(s[::-1])\n",
    "s = \"パタトクカシー\"\n",
    "print(s[::2])"
   ]
  },
  {
   "cell_type": "code",
   "execution_count": 3,
   "metadata": {
    "collapsed": false
   },
   "outputs": [
    {
     "name": "stdout",
     "output_type": "stream",
     "text": [
      "s[::2] HloWrd\n",
      "s[1::2] el ol!\n"
     ]
    }
   ],
   "source": [
    "# 文字列でスライス\n",
    "s = \"Hello World!\"\n",
    "print('s[::2]', s[::2])\n",
    "print('s[1::2]', s[1::2])"
   ]
  },
  {
   "cell_type": "markdown",
   "metadata": {},
   "source": [
    "## zip"
   ]
  },
  {
   "cell_type": "code",
   "execution_count": 5,
   "metadata": {
    "collapsed": false
   },
   "outputs": [
    {
     "name": "stdout",
     "output_type": "stream",
     "text": [
      "a [0, 2, 4, 6, 8]\n",
      "b [1, 3, 5, 7, 9]\n",
      "a+b [0, 2, 4, 6, 8, 1, 3, 5, 7, 9]\n",
      "zip [(0, 1), (2, 3), (4, 5), (6, 7), (8, 9)]\n"
     ]
    }
   ],
   "source": [
    "# 02\n",
    "a = list(range(0, 10, 2))\n",
    "b = list(range(1, 10, 2))\n",
    "print('a', a)\n",
    "print('b', b)\n",
    "# aとbをくっつける\n",
    "print('a+b', a+b)\n",
    "print('zip', list(zip(a, b)))"
   ]
  },
  {
   "cell_type": "code",
   "execution_count": 6,
   "metadata": {
    "collapsed": false
   },
   "outputs": [
    {
     "data": {
      "text/plain": [
       "'パタトクカシーー'"
      ]
     },
     "execution_count": 6,
     "metadata": {},
     "output_type": "execute_result"
    }
   ],
   "source": [
    "p = \"パトカー\"\n",
    "t = \"タクシー\"\n",
    "l = list()\n",
    "for i, j in zip(p,t):\n",
    "    l.append(i)\n",
    "    l.append(j)\n",
    "\"\".join(l)"
   ]
  },
  {
   "cell_type": "markdown",
   "metadata": {},
   "source": [
    "## join\n",
    "\n",
    "\"間に入れたい文字\".join(文字列のリスト)"
   ]
  },
  {
   "cell_type": "code",
   "execution_count": 5,
   "metadata": {
    "collapsed": false
   },
   "outputs": [
    {
     "name": "stdout",
     "output_type": "stream",
     "text": [
      "['0', '1', '2', '3', '4', '5', '6', '7', '8', '9']\n",
      "0★1★2★3★4★5★6★7★8★9\n"
     ]
    }
   ],
   "source": [
    "c = range(10)\n",
    "sc = list(map(str, c))\n",
    "print(sc)\n",
    "print(\"★\".join(sc))"
   ]
  },
  {
   "cell_type": "markdown",
   "metadata": {},
   "source": [
    "## split\n",
    "\n",
    "区切りたい文字列.split(区切るのに使う文字)"
   ]
  },
  {
   "cell_type": "code",
   "execution_count": 7,
   "metadata": {
    "collapsed": false
   },
   "outputs": [
    {
     "name": "stdout",
     "output_type": "stream",
     "text": [
      "60, 59, 80, 71, 29\n",
      "-> ['60', '59', '80', '71', '29']\n"
     ]
    },
    {
     "data": {
      "text/plain": [
       "'しいたけは食べれないけど，ほうれん草は食べれる'"
      ]
     },
     "execution_count": 7,
     "metadata": {},
     "output_type": "execute_result"
    }
   ],
   "source": [
    "# 03\n",
    "v = \"60, 59, 80, 71, 29\"\n",
    "print(v)\n",
    "print(\"->\", v.split(', '))\n",
    "s = \"しいたけは食べられないけど，ほうれん草は食べられる\"\n",
    "s.replace(\"ら\", \"\")"
   ]
  },
  {
   "cell_type": "code",
   "execution_count": 12,
   "metadata": {
    "collapsed": false
   },
   "outputs": [
    {
     "name": "stdout",
     "output_type": "stream",
     "text": [
      "Now I need a drink alcoholic of course after the heavy lectures involving quantum mechanics\n"
     ]
    },
    {
     "data": {
      "text/plain": [
       "['Now',\n",
       " 'I',\n",
       " 'need',\n",
       " 'a',\n",
       " 'drink',\n",
       " 'alcoholic',\n",
       " 'of',\n",
       " 'course',\n",
       " 'after',\n",
       " 'the',\n",
       " 'heavy',\n",
       " 'lectures',\n",
       " 'involving',\n",
       " 'quantum',\n",
       " 'mechanics']"
      ]
     },
     "execution_count": 12,
     "metadata": {},
     "output_type": "execute_result"
    }
   ],
   "source": [
    "s = \"Now I need a drink, alcoholic of course, after the heavy lectures involving quantum mechanics.\"\n",
    "s = s.replace(\",\", \"\")\n",
    "s = s.replace(\".\", \"\")\n",
    "print(s)\n",
    "s.split(\" \")"
   ]
  },
  {
   "cell_type": "code",
   "execution_count": 17,
   "metadata": {
    "collapsed": false
   },
   "outputs": [
    {
     "data": {
      "text/plain": [
       "{'a': 4, 'baa': 3}"
      ]
     },
     "execution_count": 17,
     "metadata": {},
     "output_type": "execute_result"
    }
   ],
   "source": [
    "d = dict()\n",
    "d['a'] = 2\n",
    "d['baa'] = 3\n",
    "d['a'] += 2\n",
    "d"
   ]
  },
  {
   "cell_type": "code",
   "execution_count": 21,
   "metadata": {
    "collapsed": false
   },
   "outputs": [
    {
     "data": {
      "text/plain": [
       "{'H': 1,\n",
       " 'He': 2,\n",
       " 'Li': 3,\n",
       " 'Be': 4,\n",
       " 'B': 5,\n",
       " 'C': 6,\n",
       " 'N': 7,\n",
       " 'O': 8,\n",
       " 'F': 9,\n",
       " 'Ne': 10,\n",
       " 'Na': 11,\n",
       " 'Mi': 12,\n",
       " 'Al': 13,\n",
       " 'Si': 14,\n",
       " 'P': 15,\n",
       " 'S': 16,\n",
       " 'Cl': 17,\n",
       " 'Ar': 18,\n",
       " 'K': 19,\n",
       " 'Ca': 20}"
      ]
     },
     "execution_count": 21,
     "metadata": {},
     "output_type": "execute_result"
    }
   ],
   "source": [
    "s = \"Hi He Lied Because Boron Could Not Oxidize Fluorine. New Nations Might Also Sign Peace Security Clause. Arthur King Can.\"\n",
    "s.replace(',','')\n",
    "s.replace('.','')\n",
    "words = s.split()\n",
    "dic = {}\n",
    "for i, word in enumerate(words, start=1):\n",
    "    if i in [1, 5, 6, 7, 8, 9, 15, 16, 19]:\n",
    "        dic[word[:1]] = i\n",
    "    else:\n",
    "        dic[word[:2]] = i\n",
    "dic"
   ]
  },
  {
   "cell_type": "code",
   "execution_count": 24,
   "metadata": {
    "collapsed": false
   },
   "outputs": [
    {
     "name": "stdout",
     "output_type": "stream",
     "text": [
      "[['I', 'am'], ['am', 'an'], ['an', 'NLPer']]\n",
      "['I ', ' a', 'am', 'm ', ' a', 'an', 'n ', ' N', 'NL', 'LP', 'Pe', 'er']\n"
     ]
    }
   ],
   "source": [
    "def make_ngram(data, n):\n",
    "    ngram = list()\n",
    "    for i in range(len(data) - n + 1):\n",
    "        ngram.append(data[i:i+n])\n",
    "    return ngram\n",
    "s = \"I am an NLPer\"\n",
    "ngram_word = make_ngram(s.split(), 2)\n",
    "ngram_char = make_ngram(s, 2)\n",
    "print(ngram_word)\n",
    "print(ngram_char)"
   ]
  },
  {
   "cell_type": "code",
   "execution_count": 28,
   "metadata": {
    "collapsed": false
   },
   "outputs": [
    {
     "name": "stdout",
     "output_type": "stream",
     "text": [
      "True\n",
      "False\n",
      "{1, 2, 3, 4, 5, 6}\n",
      "{1, 2, 3, 4}\n",
      "{5, 6}\n"
     ]
    }
   ],
   "source": [
    "# 06\n",
    "print('😜' in \"😭😩😜😍\")\n",
    "print('👿' in \"😭😩😜😍\")\n",
    "\n",
    "a = set([1,2,3,4,4,1])\n",
    "b = set([1,2,3,4,4,5,6])\n",
    "print(a | b)\n",
    "print(a &  b)\n",
    "print(b - a)"
   ]
  },
  {
   "cell_type": "code",
   "execution_count": 31,
   "metadata": {
    "collapsed": false
   },
   "outputs": [
    {
     "name": "stdout",
     "output_type": "stream",
     "text": [
      "{'ar', 'is', 'se', 'ra', 'ph', 'pa', 'di', 'gr', 'ad', 'ag', 'ap'}\n",
      "{'ar', 'pa', 'ra', 'ap'}\n",
      "{'ad', 'is', 'se', 'di'}\n",
      "True\n",
      "False\n"
     ]
    }
   ],
   "source": [
    "a = \"paraparaparadise\"\n",
    "b = 'paragraph'\n",
    "x = make_ngram(a, 2)\n",
    "y = make_ngram(b, 2)\n",
    "x = set(x)\n",
    "y = set(y)\n",
    "print(x | y)\n",
    "print(x & y)\n",
    "print(x - y)\n",
    "print('se' in x)\n",
    "print('se' in y)"
   ]
  },
  {
   "cell_type": "code",
   "execution_count": 32,
   "metadata": {
    "collapsed": false
   },
   "outputs": [
    {
     "data": {
      "text/plain": [
       "'12時の気温は22.4'"
      ]
     },
     "execution_count": 32,
     "metadata": {},
     "output_type": "execute_result"
    }
   ],
   "source": [
    "def solve(x, y, z):\n",
    "    return '{0}時の{1}は{2}'.format(x, y, z)\n",
    "x = 12\n",
    "y = '気温'\n",
    "z = 22.4\n",
    "solve(x, y, z)"
   ]
  },
  {
   "cell_type": "markdown",
   "metadata": {},
   "source": [
    "## ordとchr\n",
    "\n",
    "ordは文字コードを教えてくれる(Unicode)\n",
    "\n",
    "chrは文字コードが何の文字のコードか教えてくれる"
   ]
  },
  {
   "cell_type": "code",
   "execution_count": 33,
   "metadata": {
    "collapsed": false
   },
   "outputs": [
    {
     "name": "stdout",
     "output_type": "stream",
     "text": [
      "a: 97\n",
      "100: d\n",
      "a+1: b\n"
     ]
    }
   ],
   "source": [
    "# 08\n",
    "print('a:', ord('a'))\n",
    "print('100:', chr(100))\n",
    "print('a+1:', chr(ord('a') + 1))"
   ]
  },
  {
   "cell_type": "code",
   "execution_count": 5,
   "metadata": {
    "collapsed": false
   },
   "outputs": [
    {
     "data": {
      "text/plain": [
       "True"
      ]
     },
     "execution_count": 5,
     "metadata": {},
     "output_type": "execute_result"
    }
   ],
   "source": [
    "'a'.islower()"
   ]
  },
  {
   "cell_type": "code",
   "execution_count": 34,
   "metadata": {
    "collapsed": false
   },
   "outputs": [
    {
     "data": {
      "text/plain": [
       "False"
      ]
     },
     "execution_count": 34,
     "metadata": {},
     "output_type": "execute_result"
    }
   ],
   "source": [
    "'A'.islower()"
   ]
  },
  {
   "cell_type": "code",
   "execution_count": 36,
   "metadata": {
    "collapsed": false
   },
   "outputs": [
    {
     "name": "stdout",
     "output_type": "stream",
     "text": [
      "origin: Hello world!\n",
      "cipher: Hvool dliow!\n",
      "decode: Hello world!\n"
     ]
    }
   ],
   "source": [
    "def cipher(message):\n",
    "    chars = [chr(219 - ord(c)) if c.islower() else c for c in message]\n",
    "    return \"\".join(chars)\n",
    "message = 'Hello world!'\n",
    "print('origin:', message)\n",
    "cipher_message = cipher(message)\n",
    "print('cipher:', cipher_message)\n",
    "decode_message = cipher(cipher_message)\n",
    "print('decode:', decode_message)"
   ]
  },
  {
   "cell_type": "markdown",
   "metadata": {},
   "source": [
    "## random.shuffle\n",
    "\n",
    "\"破壊的\"にシャッフル"
   ]
  },
  {
   "cell_type": "code",
   "execution_count": 38,
   "metadata": {
    "collapsed": false
   },
   "outputs": [
    {
     "name": "stdout",
     "output_type": "stream",
     "text": [
      "original [0, 1, 2, 3, 4, 5, 6, 7, 8, 9]\n",
      "shuffled [4, 3, 7, 6, 0, 2, 1, 9, 8, 5]\n"
     ]
    }
   ],
   "source": [
    "# 09\n",
    "import random\n",
    "l = list(range(10))\n",
    "print('original', l)\n",
    "random.shuffle(l)\n",
    "print('shuffled', l)"
   ]
  },
  {
   "cell_type": "code",
   "execution_count": 39,
   "metadata": {
    "collapsed": false
   },
   "outputs": [
    {
     "name": "stdout",
     "output_type": "stream",
     "text": [
      "I colnu'dt beileve that I could aulaclty utdernnasd what I was rdineag : the pmhnnaoeel poewr of the hmuan mind .\n"
     ]
    }
   ],
   "source": [
    "def scramble_word(word):\n",
    "    if len(word) > 4:\n",
    "        chars = list(word[1:-1])\n",
    "        random.shuffle(chars)\n",
    "        word = word[0] + \"\".join(chars) + word[-1]\n",
    "    return word\n",
    "\n",
    "def scramble_words(words):\n",
    "    words = words.split()\n",
    "    new_words = [scramble_word(word) for word in words]\n",
    "    return \" \".join(new_words)\n",
    "\n",
    "text = \"I couldn't believe that I could actually understand what I was reading : the phenomenal power of the human mind .\"\n",
    "print(scramble_words(text))"
   ]
  }
 ],
 "metadata": {
  "anaconda-cloud": {},
  "kernelspec": {
   "display_name": "Python [default]",
   "language": "python",
   "name": "python3"
  },
  "language_info": {
   "codemirror_mode": {
    "name": "ipython",
    "version": 3
   },
   "file_extension": ".py",
   "mimetype": "text/x-python",
   "name": "python",
   "nbconvert_exporter": "python",
   "pygments_lexer": "ipython3",
   "version": "3.5.2"
  }
 },
 "nbformat": 4,
 "nbformat_minor": 2
}
